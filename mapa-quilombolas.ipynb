import folium
import pandas as pd
import geopandas as gpd
from folium.plugins import HeatMap
from folium.plugins import HeatMap, Search, Geocoder, SideBySideLayers
from branca.colormap import linear

quilombolas = pd.read_csv('/content/drive/MyDrive/censo_superior/quilomnolas.csv', sep=";", encoding='ISO-8859-1')
mapa = gpd.read_file('/content/drive/MyDrive/censo_superior/BR_Municipios_2022.json')
sinapir = pd.read_excel('/content/drive/MyDrive/censo_superior/DBSINAPIR07_08.xlsx')
merged_df = mapa.merge(quilombolas, left_on='CD_MUN', right_on='cod_ibge', how='left')

#mapa colorido 
quilombolas_em_territorios = merged_df[
    (merged_df['Em territórios quilombolas'].notna()) &
    (merged_df['Em territórios quilombolas'] != '-') &
    (merged_df['Em territórios quilombolas'] != 'X')
]
bounds = quilombolas_em_territorios.total_bounds
center = [(bounds[1] + bounds[3]) / 2, (bounds[0] + bounds[2]) / 2]
m = folium.Map(location=center, zoom_start=5)
for _, row in quilombolas_em_territorios.iterrows():
    info = f"Município: {row['NM_MUN']}<br>"
    if not pd.isna(row['Em territórios quilombolas']):
        info += f"Em territórios quilombolas: {row['Em territórios quilombolas']}<br>"

    folium.GeoJson(
        row['geometry'],
        name=row['NM_MUN'],
        tooltip=folium.Tooltip(info),
        style_function=lambda x: {'fillColor': 'blue', 'color': 'black', 'weight': 0.5}
    ).add_to(m)
m.save('quilombolas.html')

#mapa pontilhado 

sinapir = sinapir.rename(columns={'codibge': 'CD_MUN', 'nmunic': 'NM_MUN'})
mapa['CD_MUN'] = mapa['CD_MUN'].astype(str)
sinapir['CD_MUN'] = sinapir['CD_MUN'].astype(str)

sinapir_selected = sinapir[['CD_MUN', 'NM_MUN', 'pibpcmun', 'pop22', 'popnegra22', 'modsinapir', 'sinapir']]


print("Colunas do mapa antes da mesclagem:", mapa.columns)
print("Colunas do sinapir antes da mesclagem:", sinapir_selected.columns)

mapa = mapa.drop(columns=['NM_MUN', 'pibpcmun', 'pop22', 'popnegra22', 'modsinapir', 'sinapir'], errors='ignore')
mapa = mapa.merge(sinapir_selected, on='CD_MUN', how='left')

print("Colunas do mapa após a mesclagem:", mapa.columns)

mapa_sinapir = mapa[mapa['sinapir'] == 'Sim']

bounds = mapa.total_bounds
center = [(bounds[1] + bounds[3]) / 2, (bounds[0] + bounds[2]) / 2]
m = folium.Map(location=center, zoom_start=5)
for _, row in mapa_sinapir.iterrows():
    info = (
        f"Município: {row.get('NM_MUN', 'Desconhecido')}<br>"
        f"PIB per capita: {row.get('pibpcmun', 'N/A')}<br>"
        f"População total: {row.get('pop22', 'N/A')}<br>"
        f"População negra: {row.get('popnegra22', 'N/A')}<br>"
f"Sinapir: {row.get('modsinapir', 'N/A')}"
    )

    folium.Marker(
        location=[row['geometry'].centroid.y, row['geometry'].centroid.x],
        tooltip=info,
        icon=folium.Icon(icon='map-pin', prefix='fa', color='black')
    ).add_to(m)

m.save('mapa_sinapir.html')
